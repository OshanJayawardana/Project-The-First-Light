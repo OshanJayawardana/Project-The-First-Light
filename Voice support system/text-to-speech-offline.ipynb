{
 "cells": [
  {
   "cell_type": "code",
   "execution_count": 1,
   "metadata": {},
   "outputs": [
    {
     "name": "stdout",
     "output_type": "stream",
     "text": [
      "Response Time = 7.4497 seconds\n"
     ]
    }
   ],
   "source": [
    "#offline\n",
    "import pyttsx3\n",
    "import numpy as np\n",
    "import time\n",
    "\n",
    "tic = time.perf_counter()\n",
    "engine = pyttsx3.init()\n",
    "rate = engine.getProperty(\"rate\")\n",
    "engine.setProperty(\"rate\",65)\n",
    "\n",
    "objects = np.array([\"pen\",\"book\",\"apple\",\"plate\"])\n",
    "\n",
    "engine.say(objects)\n",
    "engine.runAndWait()\n",
    "toc = time.perf_counter()\n",
    "print(f\"Response Time = {toc - tic:0.4f} seconds\")"
   ]
  }
 ],
 "metadata": {
  "interpreter": {
   "hash": "c0a4a38a26227b4195c19b73ceaaa36ecf000b920c1df7e74e9db74cfbdd1517"
  },
  "kernelspec": {
   "display_name": "Python 3.8.8 64-bit (system)",
   "language": "python",
   "name": "python3"
  },
  "language_info": {
   "codemirror_mode": {
    "name": "ipython",
    "version": 3
   },
   "file_extension": ".py",
   "mimetype": "text/x-python",
   "name": "python",
   "nbconvert_exporter": "python",
   "pygments_lexer": "ipython3",
   "version": "3.8.8"
  },
  "orig_nbformat": 4
 },
 "nbformat": 4,
 "nbformat_minor": 2
}
