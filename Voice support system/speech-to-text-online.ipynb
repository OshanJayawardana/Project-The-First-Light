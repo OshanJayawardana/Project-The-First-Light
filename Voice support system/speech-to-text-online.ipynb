{
 "cells": [
  {
   "cell_type": "code",
   "execution_count": 3,
   "metadata": {},
   "outputs": [
    {
     "name": "stdout",
     "output_type": "stream",
     "text": [
      "Recognized: pen\n",
      "Recognized: book\n",
      "Recognized: apple\n",
      "Recognized: plate\n",
      "Response Time = 21.0523 seconds\n"
     ]
    }
   ],
   "source": [
    "#online\n",
    "import speech_recognition as sr\n",
    "import pyaudio as pa\n",
    "import time\n",
    "\n",
    "tic = time.perf_counter()\n",
    "recognizer = sr.Recognizer()\n",
    "s=True\n",
    "\n",
    "while s:\n",
    "    with sr.Microphone() as mic:\n",
    "        try:\n",
    "            recognizer.adjust_for_ambient_noise(mic, duration=0.2)\n",
    "            audio = recognizer.listen(mic)\n",
    "\n",
    "            text = recognizer.recognize_google(audio)\n",
    "            text = text.lower()\n",
    "\n",
    "            if text == 'stop':\n",
    "                s = False\n",
    "            else:\n",
    "                print(f\"Recognized: {text}\")  \n",
    "        except: print(\"NOT CLEAR\") \n",
    "toc = time.perf_counter()   \n",
    "print(f\"Response Time = {toc - tic:0.4f} seconds\") "
   ]
  }
 ],
 "metadata": {
  "interpreter": {
   "hash": "c0a4a38a26227b4195c19b73ceaaa36ecf000b920c1df7e74e9db74cfbdd1517"
  },
  "kernelspec": {
   "display_name": "Python 3.8.8 64-bit (system)",
   "language": "python",
   "name": "python3"
  },
  "language_info": {
   "codemirror_mode": {
    "name": "ipython",
    "version": 3
   },
   "file_extension": ".py",
   "mimetype": "text/x-python",
   "name": "python",
   "nbconvert_exporter": "python",
   "pygments_lexer": "ipython3",
   "version": "3.8.8"
  },
  "orig_nbformat": 4
 },
 "nbformat": 4,
 "nbformat_minor": 2
}
